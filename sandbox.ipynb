{
 "cells": [
  {
   "cell_type": "markdown",
   "metadata": {},
   "source": [
    "TODO: Split data in train, validation, test "
   ]
  },
  {
   "cell_type": "code",
   "execution_count": 1,
   "metadata": {},
   "outputs": [],
   "source": [
    "%load_ext autoreload\n",
    "%autoreload 2"
   ]
  },
  {
   "cell_type": "code",
   "execution_count": 2,
   "metadata": {},
   "outputs": [],
   "source": [
    "data_dir = \"./data/preprocessed/\"\n",
    "# omega is the size of the time block that we give to the model\n",
    "omega = 20\n",
    "batch_size = 16"
   ]
  },
  {
   "cell_type": "code",
   "execution_count": 3,
   "metadata": {},
   "outputs": [],
   "source": [
    "# Import dataset\n",
    "from dataset import SimulationDataset\n",
    "simulationdataset = SimulationDataset(data_dir, omega)"
   ]
  },
  {
   "cell_type": "code",
   "execution_count": 4,
   "metadata": {},
   "outputs": [],
   "source": [
    "# Import sampler that uses Time Adjusted Sampling as described in Appendix B\n",
    "from sampler import TimeAdjustedSampler\n",
    "sampler = TimeAdjustedSampler(simulationdataset, batch_size=batch_size)"
   ]
  },
  {
   "cell_type": "code",
   "execution_count": 5,
   "metadata": {},
   "outputs": [],
   "source": [
    "# Setup dataloader\n",
    "import torch\n",
    "\n",
    "def custom_collate(batch):\n",
    "    X, Y = [], []\n",
    "\n",
    "    for x,f,y in batch:\n",
    "        X.append(torch.cat((x, f), dim=2))\n",
    "        Y.append(y)\n",
    "\n",
    "    X = torch.stack(X)\n",
    "    Y = torch.stack(Y)\n",
    "\n",
    "    return (X,Y)\n",
    "\n",
    "from torch.utils.data import DataLoader \n",
    "dataloader = DataLoader(simulationdataset, batch_sampler=sampler, collate_fn=custom_collate)"
   ]
  },
  {
   "cell_type": "code",
   "execution_count": 6,
   "metadata": {},
   "outputs": [],
   "source": [
    "for batch in dataloader:\n",
    "    break"
   ]
  },
  {
   "cell_type": "markdown",
   "metadata": {},
   "source": [
    "Batches are a list. Each list contains **batch_size (n)** amount of samples. \\\n",
    "So, `batches = [batch_1, batch_2, ...., batch_n]`. \\\n",
    "Each batch is a list of three items. `[X, F, Y]`. \\\n",
    "Where, \n",
    "- `X` is the state of the tokamak from time `t - w` to time `t`, i.e. `t-w:t`. Size: (`w`, 500, 6)\n",
    "- `F` is the forcing from time `t-w` to time `t + w`, i.e. `t-w:t+w`. (2*`w`, 500, 6)\n",
    "- `Y` is the state of the tokamak from time `t` to time `t + w`, i.e. `t:t+w`. Size: (`w`, 500, 6)\n",
    "\n",
    "`w` is the size of the time blocks and the amount of timesteps we input in the model and expect the model to output.\n",
    "\n",
    "**Sampling:** \\\n",
    "Based on `w` we sample the dataset. \\\n",
    "We first sample the length of the distribution we want to sample from. \\\n",
    "Then, we sample a simulation uniformly from all simulations with that given lenght of timesteps. \\\n",
    "\n",
    "There are more combinations of timeblocks in simulations with larger length. Therefore, the chance that a certain block gets selected given simulations with large numer of timesteps diminished for large number of timesteps - we have chosen to give higher chance to sample a simulation with longer timesteps as opposed to a simulation with fewer timesteps."
   ]
  },
  {
   "cell_type": "code",
   "execution_count": null,
   "metadata": {},
   "outputs": [],
   "source": [
    "# X\n",
    "print(\"X shape: \", batch[0].shape)\n",
    "\n",
    "# Y\n",
    "print(\"Y shape: \", batch[1].shape)"
   ]
  },
  {
   "cell_type": "code",
   "execution_count": null,
   "metadata": {},
   "outputs": [],
   "source": [
    "from models import Forward, Prior, Posterior, Decoder\n",
    "from train import train_step\n",
    "from tqdm.auto import tqdm\n",
    "import os, json\n",
    "os.environ[\"KERAS_BACKEND\"] = \"torch\"\n",
    "import keras\n",
    "\n",
    "# Instantiate models\n",
    "forward_t = Forward()\n",
    "forward_tplus1 = Forward()\n",
    "prior = Prior()\n",
    "posterior = Posterior()\n",
    "decoder = Decoder()\n",
    "opt = keras.optimizers.AdamW()\n",
    "\n",
    "# Loop over epochs\n",
    "train_loss_history = [] \n",
    "os.makedirs(\"./results/basic0\", exist_ok=True)\n",
    "for i in tqdm(range(1000)):\n",
    "    # Loop over batches\n",
    "    epoch_loss_history = {\"kl_loss\": [], \"rec_loss\": []}\n",
    "    for j, (x_t, x_tplus1) in enumerate(dataloader):\n",
    "        # Move to gpu\n",
    "        x_t = x_t.to(\"cuda\")\n",
    "        x_tplus1 = x_tplus1.to(\"cuda\")\n",
    "        # Initialize scaler\n",
    "        if (i==0) and (j==0):\n",
    "            forward_t.layers[0].adapt(x_t)\n",
    "            forward_tplus1.layers[0].adapt(x_tplus1)\n",
    "        # Train\n",
    "        kl_loss, rec_loss = train_step(x_t, x_tplus1, forward_t, forward_tplus1, prior, posterior, decoder, opt)\n",
    "        epoch_loss_history[\"kl_loss\"].append(keras.ops.mean(kl_loss).item())\n",
    "        epoch_loss_history[\"rec_loss\"].append(keras.ops.mean(rec_loss).item())\n",
    "    train_loss_history.append(epoch_loss_history)\n",
    "    # Save models\n",
    "    forward_t.save(\"./results/basic0/forward_t.keras\")\n",
    "    forward_tplus1.save(\"./results/basic0/forward_tplus1.keras\")\n",
    "    prior.save(\"./results/basic0/prior.keras\")\n",
    "    posterior.save(\"./results/basic0/posterior.keras\")\n",
    "    decoder.save(\"./results/basic0/decoder.keras\")\n",
    "    # Save training history\n",
    "    with open(\"./results/basic0/history.json\", \"w\") as f:\n",
    "        json.dump(train_loss_history, f)"
   ]
  }
 ],
 "metadata": {
  "kernelspec": {
   "display_name": "Python 3",
   "language": "python",
   "name": "python3"
  },
  "language_info": {
   "codemirror_mode": {
    "name": "ipython",
    "version": 3
   },
   "file_extension": ".py",
   "mimetype": "text/x-python",
   "name": "python",
   "nbconvert_exporter": "python",
   "pygments_lexer": "ipython3",
   "version": "3.12.3"
  }
 },
 "nbformat": 4,
 "nbformat_minor": 2
}
