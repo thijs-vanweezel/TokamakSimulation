{
 "cells": [
  {
   "cell_type": "code",
   "execution_count": 14,
   "metadata": {},
   "outputs": [
    {
     "name": "stdout",
     "output_type": "stream",
     "text": [
      "The autoreload extension is already loaded. To reload it, use:\n",
      "  %reload_ext autoreload\n"
     ]
    }
   ],
   "source": [
    "%load_ext autoreload\n",
    "%autoreload 2\n",
    "from utils import FusionDataset, TrajectoryPreservingSampler, generate, plot_1d_statistic_over_time\n",
    "from models import Forward, Posterior, Prior, Decoder\n",
    "from train_2 import run\n",
    "import os, pickle\n",
    "import pandas as pd \n",
    "import torch \n",
    "from torch.utils.data import Subset\n",
    "os.environ[\"KERAS_BACKEND\"] = \"torch\"\n",
    "import keras"
   ]
  },
  {
   "cell_type": "code",
   "execution_count": 22,
   "metadata": {},
   "outputs": [],
   "source": [
    "device = torch.device(\"cpu\")"
   ]
  },
  {
   "cell_type": "markdown",
   "metadata": {},
   "source": [
    "## B input parameter "
   ]
  },
  {
   "cell_type": "code",
   "execution_count": 23,
   "metadata": {},
   "outputs": [],
   "source": [
    "b_field = pd.read_csv('b-field.csv', delimiter=',', index_col=0)\n",
    "b_field_values = b_field.values.flatten()  # Convert to a 1D Numpy array\n",
    "b_field = torch.tensor(b_field_values, dtype=torch.float32).to(device)\n"
   ]
  },
  {
   "cell_type": "code",
   "execution_count": null,
   "metadata": {},
   "outputs": [
    {
     "name": "stderr",
     "output_type": "stream",
     "text": [
      "  0%|          | 0/10 [00:00<?, ?it/s]/opt/homebrew/Caskroom/miniforge/base/envs/NuclearFusion/lib/python3.11/site-packages/keras/src/backend/common/backend_utils.py:91: UserWarning: You might experience inconsistencies across backends when calling conv transpose with kernel_size=3, stride=2, dilation_rate=1, padding=same, output_padding=1.\n",
      "  warnings.warn(\n"
     ]
    }
   ],
   "source": [
    "# Instantiate models on the chosen device\n",
    "forward_t = Forward().to(device)\n",
    "forward_tplus1 = Forward().to(device)\n",
    "prior = Prior().to(device)\n",
    "posterior = Posterior().to(device)\n",
    "decoder = Decoder().to(device)\n",
    "\n",
    "# Instantiate optimizer\n",
    "opt = keras.optimizers.AdamW()\n",
    "\n",
    "# Get data\n",
    "batch_size = 8\n",
    "train_loader = TrajectoryPreservingSampler(FusionDataset(data_dir=\"./data/train\",max_instances=30), batch_size=batch_size)\n",
    "val_loader = TrajectoryPreservingSampler(FusionDataset(data_dir=\"./data/val\",max_instances=10), batch_size=batch_size)\n",
    "test_ds = TrajectoryPreservingSampler(FusionDataset(data_dir=\"./data/test\"), batch_size=16)\n",
    "\n",
    "# Run training\n",
    "save_dir = \"./results/basic0\"\n",
    "x_tensor = torch.linspace(0, 500, steps=batch_size, requires_grad=True).unsqueeze(1).to(device)\n",
    "\n",
    "run(train_loader, val_loader, forward_t, forward_tplus1, prior, posterior, decoder, opt, b_field, x_tensor, save_dir, 10)\n",
    "\n",
    "# Evaluate by generating multiple trajectories from one random starting point\n",
    "trajectory = next(iter(test_ds))\n",
    "trajectory_hats = []\n",
    "for i in range(6):\n",
    "    trajectory_hats.append(keras.ops.concatenate(generate(trajectory, forward_t, prior, decoder)))\n",
    "    # Save trajectories as figure\n",
    "    fig = plot_1d_statistic_over_time(trajectory_hats[i].detach().cpu(), 0, \"I don't know what this variable is\");\n",
    "    fig.savefig(f\"{save_dir}/gen_{i}\")\n",
    "# Save trajectories as tensors\n",
    "trajectory_hats = keras.ops.stack(trajectory_hats)\n",
    "with open(f\"{save_dir}/generated_trajectories.pkl\", \"wb\") as file:\n",
    "    pickle.dump(trajectory_hats, file)"
   ]
  }
 ],
 "metadata": {
  "kernelspec": {
   "display_name": "NuclearFusion",
   "language": "python",
   "name": "python3"
  },
  "language_info": {
   "codemirror_mode": {
    "name": "ipython",
    "version": 3
   },
   "file_extension": ".py",
   "mimetype": "text/x-python",
   "name": "python",
   "nbconvert_exporter": "python",
   "pygments_lexer": "ipython3",
   "version": "3.11.10"
  }
 },
 "nbformat": 4,
 "nbformat_minor": 2
}
