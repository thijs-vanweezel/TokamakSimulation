{
 "cells": [
  {
   "cell_type": "markdown",
   "metadata": {},
   "source": [
    "TODO: Split data in train, validation, test "
   ]
  },
  {
   "cell_type": "code",
   "execution_count": 104,
   "metadata": {},
   "outputs": [
    {
     "name": "stdout",
     "output_type": "stream",
     "text": [
      "The autoreload extension is already loaded. To reload it, use:\n",
      "  %reload_ext autoreload\n"
     ]
    }
   ],
   "source": [
    "%load_ext autoreload\n",
    "%autoreload 2\n",
    "from utils import FusionDataset, TrajectoryPreservingSampler, generate, plot_1d_statistic_over_time\n",
    "from models import Forward, Posterior, Prior, Decoder\n",
    "from train import run\n",
    "import os, pickle\n",
    "os.environ[\"KERAS_BACKEND\"] = \"torch\"\n",
    "import keras"
   ]
  },
  {
   "cell_type": "code",
   "execution_count": 43,
   "metadata": {},
   "outputs": [],
   "source": [
    "# Instantiate models\n",
    "forward_t = Forward()\n",
    "forward_tplus1 = Forward()\n",
    "prior = Prior()\n",
    "posterior = Posterior()\n",
    "decoder = Decoder()\n",
    "\n",
    "# Instantiate optimizer\n",
    "opt = keras.optimizers.AdamW()\n",
    "\n",
    "# Get data\n",
    "dataset = FusionDataset()\n",
    "dataloader = TrajectoryPreservingSampler(dataset, batch_size=16)\n",
    "\n",
    "# Run training\n",
    "run(dataloader, forward_t, forward_tplus1, prior, posterior, decoder, opt, 10)\n",
    "\n",
    "# Evaluate by generating multiple trajectories from one random starting point\n",
    "trajectory = next(iter(dataset))\n",
    "trajectory_hats = []\n",
    "for i in range(6):\n",
    "    trajectory_hats.append(keras.ops.concatenate(generate(trajectory, forward_t, prior, decoder)))\n",
    "    # Save trajectories as figure\n",
    "    fig = plot_1d_statistic_over_time(trajectory_hats[i].detach().cpu(), 0, \"I don't know what this variable is\");\n",
    "    fig.savefig(\"./resuls/basic0/gen_0\")\n",
    "# Save trajectories as tensors\n",
    "trajectory_hats = keras.ops.stack(trajectory_hats)\n",
    "with open(\"./results/basic0/generated_trajectories.pkl\", \"wb\") as file:\n",
    "    pickle.dump(trajectory_hats, file)"
   ]
  }
 ],
 "metadata": {
  "kernelspec": {
   "display_name": "general",
   "language": "python",
   "name": "python3"
  },
  "language_info": {
   "codemirror_mode": {
    "name": "ipython",
    "version": 3
   },
   "file_extension": ".py",
   "mimetype": "text/x-python",
   "name": "python",
   "nbconvert_exporter": "python",
   "pygments_lexer": "ipython3",
   "version": "3.12.3"
  }
 },
 "nbformat": 4,
 "nbformat_minor": 2
}
