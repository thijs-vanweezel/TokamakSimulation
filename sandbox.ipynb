{
 "cells": [
  {
   "cell_type": "markdown",
   "metadata": {},
   "source": [
    "TODO: Split data in train, validation, test "
   ]
  },
  {
   "cell_type": "code",
   "execution_count": 1,
   "metadata": {},
   "outputs": [],
   "source": [
    "data_dir = \"../nuclear-fusion/data/preprocessed/\"\n",
    "omega = 20\n",
    "batch_size = 16"
   ]
  },
  {
   "cell_type": "code",
   "execution_count": 2,
   "metadata": {},
   "outputs": [],
   "source": [
    "# Import dataset\n",
    "from dataset import SimulationDataset\n",
    "simulationdataset = SimulationDataset(data_dir, omega)"
   ]
  },
  {
   "cell_type": "code",
   "execution_count": 3,
   "metadata": {},
   "outputs": [],
   "source": [
    "# Import sampler that uses Time Adjusted Sampling as described in Appendix B\n",
    "from sampler import TimeAdjustedSampler\n",
    "sampler = TimeAdjustedSampler(simulationdataset, batch_size=batch_size)"
   ]
  },
  {
   "cell_type": "code",
   "execution_count": 12,
   "metadata": {},
   "outputs": [],
   "source": [
    "# Setup dataloader\n",
    "import torch\n",
    "\n",
    "def custom_collate(batch):\n",
    "    return batch\n",
    "\n",
    "from torch.utils.data import DataLoader \n",
    "dataloader = DataLoader(simulationdataset, batch_sampler=sampler, collate_fn=custom_collate)"
   ]
  },
  {
   "cell_type": "code",
   "execution_count": 13,
   "metadata": {},
   "outputs": [],
   "source": [
    "for batch in dataloader:\n",
    "    break"
   ]
  },
  {
   "cell_type": "markdown",
   "metadata": {},
   "source": [
    "Batches are a list. Each list contains **batch_size (n)** amount of samples. \\\n",
    "So, `batches = [sample_1, sample_2, ...., sample_n]`. \\\n",
    "Each batch is a list of three items. `[X, F, Y]`. \\\n",
    "Where, \n",
    "- `X` is the state of the tokamak from time `t - w` to time `t`, i.e. `t-w:t`. Size: (`w`, 500, 6)\n",
    "- `F` is the forcing from time `t-w` to time `t + w`, i.e. `t-w:t+w`. (2*`w`, 500, 6)\n",
    "- `Y` is the state of the tokamak from time `t` to time `t + w`, i.e. `t:t+w`. Size: (`w`, 500, 6)\n",
    "\n",
    "`w` is the size of the time blocks and the amount of timesteps we input in the model and expect the model to output.\n",
    "\n",
    "**Sampling:** \\\n",
    "Based on `w` we sample the dataset. \\\n",
    "We first sample the length of the distribution we want to sample from. \\\n",
    "Then, we sample a simulation uniformly from all simulations with that given lenght of timesteps. \\\n",
    "\n",
    "There are more combinations of timeblocks in simulations with larger length. Therefore, the chance that a certain block gets selected given simulations with large numer of timesteps diminished for large number of timesteps - we have chosen to give higher chance to sample a simulation with longer timesteps as opposed to a simulation with fewer timesteps."
   ]
  },
  {
   "cell_type": "code",
   "execution_count": 22,
   "metadata": {},
   "outputs": [
    {
     "name": "stdout",
     "output_type": "stream",
     "text": [
      "X shape:  (20, 500, 6)\n",
      "F shape:  (40, 500, 2)\n",
      "Y shape:  (20, 500, 6)\n"
     ]
    }
   ],
   "source": [
    "# X\n",
    "print(\"X shape: \", batch[0][0].shape)\n",
    "\n",
    "# F\n",
    "print(\"F shape: \", batch[0][1].shape)\n",
    "\n",
    "# Y\n",
    "print(\"Y shape: \", batch[0][2].shape)"
   ]
  }
 ],
 "metadata": {
  "kernelspec": {
   "display_name": "Python 3",
   "language": "python",
   "name": "python3"
  },
  "language_info": {
   "codemirror_mode": {
    "name": "ipython",
    "version": 3
   },
   "file_extension": ".py",
   "mimetype": "text/x-python",
   "name": "python",
   "nbconvert_exporter": "python",
   "pygments_lexer": "ipython3",
   "version": "3.10.14"
  }
 },
 "nbformat": 4,
 "nbformat_minor": 2
}
