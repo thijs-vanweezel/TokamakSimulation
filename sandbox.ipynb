{
 "cells": [
  {
   "cell_type": "code",
   "execution_count": 1,
   "metadata": {},
   "outputs": [],
   "source": [
    "%load_ext autoreload\n",
    "%autoreload 2\n",
    "from utils import dataloader, generate, plot_1d_statistic_over_time\n",
    "from models import Forward, Posterior, Prior, Decoder, reparameterize\n",
    "from train import run, val_step\n",
    "import os, pickle\n",
    "os.environ[\"KERAS_BACKEND\"] = \"torch\"\n",
    "import keras"
   ]
  },
  {
   "cell_type": "markdown",
   "metadata": {},
   "source": [
    "# Train"
   ]
  },
  {
   "cell_type": "code",
   "execution_count": null,
   "metadata": {},
   "outputs": [],
   "source": [
    "# Instantiate models\n",
    "forward_t = Forward()\n",
    "forward_tplus1 = Forward()\n",
    "prior = Prior()\n",
    "posterior = Posterior()\n",
    "decoder = Decoder()\n",
    "\n",
    "# Instantiate optimizer\n",
    "opt = keras.optimizers.AdamW(1e-4)\n",
    "\n",
    "# Get data\n",
    "train_loader = dataloader(data_dir=\"./data/train\", batch_size=16)\n",
    "val_loader = dataloader(data_dir=\"./data/val\", batch_size=16)\n",
    "test_loader = dataloader(data_dir=\"./data/test\", batch_size=16)\n",
    "\n",
    "# Run training\n",
    "save_dir = \"./results/basic0\"\n",
    "run(train_loader, val_loader, forward_t, forward_tplus1, prior, posterior, decoder, opt, save_dir, 100)"
   ]
  },
  {
   "cell_type": "markdown",
   "metadata": {},
   "source": [
    "# Evaluate"
   ]
  },
  {
   "cell_type": "code",
   "execution_count": null,
   "metadata": {},
   "outputs": [],
   "source": [
    "# Load trained models\n",
    "forward_t.load_weights(f\"{save_dir}/forward_t.weights.h5\")\n",
    "prior.load_weights(f\"{save_dir}/prior.weights.h5\")\n",
    "decoder.load_weights(f\"{save_dir}/decoder.weights.h5\")\n",
    "\n",
    "# Evaluate by calculating loss over test set\n",
    "test_loss = 0\n",
    "for i, (x_t, x_tplus1) in enumerate(test_loader):\n",
    "    test_loss += val_step(x_t, x_tplus1, forward_t, prior, decoder)\n",
    "test_loss /= i+1\n",
    "print(\"Test reconstruction nll:\", test_loss)"
   ]
  },
  {
   "cell_type": "markdown",
   "metadata": {},
   "source": [
    "# Generate\n",
    "Make sure the trained models have been loaded with the code cell above."
   ]
  },
  {
   "cell_type": "code",
   "execution_count": null,
   "metadata": {},
   "outputs": [],
   "source": [
    "# Evaluate by generating multiple trajectories from one random starting point\n",
    "trajectory = test_loader.dataset.get_trajectory()\n",
    "print(len(trajectory))\n",
    "trajectory_hats = []\n",
    "for i in range(6):\n",
    "    trajectory_hats.append(keras.ops.concatenate(generate(trajectory, forward_t, prior, decoder)))\n",
    "    # Save trajectories as figure\n",
    "    fig = plot_1d_statistic_over_time(trajectory_hats[i].detach().cpu(), 0, \"I don't know what this variable is\");\n",
    "    fig.savefig(f\"{save_dir}/gen_{i}\")\n",
    "# Save trajectories as tensors\n",
    "trajectory_hats = keras.ops.stack(trajectory_hats)\n",
    "with open(f\"{save_dir}/generated_trajectories.pkl\", \"wb\") as file:\n",
    "    pickle.dump(trajectory_hats, file)"
   ]
  }
 ],
 "metadata": {
  "kernelspec": {
   "display_name": "general",
   "language": "python",
   "name": "python3"
  },
  "language_info": {
   "codemirror_mode": {
    "name": "ipython",
    "version": 3
   },
   "file_extension": ".py",
   "mimetype": "text/x-python",
   "name": "python",
   "nbconvert_exporter": "python",
   "pygments_lexer": "ipython3",
   "version": "3.12.3"
  }
 },
 "nbformat": 4,
 "nbformat_minor": 2
}
