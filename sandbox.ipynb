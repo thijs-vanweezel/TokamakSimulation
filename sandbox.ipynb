{
 "cells": [
  {
   "cell_type": "code",
   "execution_count": null,
   "metadata": {},
   "outputs": [],
   "source": [
    "%load_ext autoreload\n",
    "%autoreload 2\n",
    "from utils import dataloader, generate, plot_1d_statistic_over_time, plot_loss\n",
    "from models import Forward, Posterior, Prior, Decoder\n",
    "from train import run, val_step, DEVICE\n",
    "import os, pickle, random, shutil, pandas as pd, torch\n",
    "os.environ[\"KERAS_BACKEND\"] = \"torch\"\n",
    "import keras"
   ]
  },
  {
   "cell_type": "markdown",
   "metadata": {},
   "source": [
    "# Split data\n",
    "Make sure all data files are stored somewhere in `\"./data/\"`."
   ]
  },
  {
   "cell_type": "code",
   "execution_count": null,
   "metadata": {},
   "outputs": [],
   "source": [
    "files = [os.path.join(root, file) for root, _, files in os.walk(\"./data/\") for file in files if file.endswith(\".npz\")]\n",
    "random.seed(42)\n",
    "random.shuffle(files)\n",
    "\n",
    "train_files = files[:int(0.6 * len(files))]\n",
    "val_files = files[int(0.6 * len(files)):int(0.8 * len(files))]\n",
    "test_files = files[int(0.8 * len(files)):]\n",
    "\n",
    "os.makedirs(\"./data/train\", exist_ok=True)\n",
    "os.makedirs(\"./data/val\", exist_ok=True)\n",
    "os.makedirs(\"./data/test\", exist_ok=True)\n",
    "\n",
    "for f in train_files:\n",
    "    if not f.split(\"/\")[-1] in os.listdir(\"./data/train\"):\n",
    "        shutil.move(f, \"./data/train\")\n",
    "for f in val_files:\n",
    "    if not f.split(\"/\")[-1] in os.listdir(\"./data/val\"):\n",
    "        shutil.move(f, \"./data/val\")\n",
    "for f in test_files:\n",
    "    if not f.split(\"/\")[-1] in os.listdir(\"./data/test\"):\n",
    "        shutil.move(f, \"./data/test\")"
   ]
  },
  {
   "cell_type": "markdown",
   "metadata": {},
   "source": [
    "# Train"
   ]
  },
  {
   "cell_type": "code",
   "execution_count": null,
   "metadata": {},
   "outputs": [],
   "source": [
    "# Instantiate models\n",
    "forward_t = Forward()\n",
    "forward_tplus1 = Forward()\n",
    "prior = Prior()\n",
    "posterior = Posterior()\n",
    "decoder = Decoder()\n",
    "\n",
    "# Instantiate optimizer\n",
    "opt = keras.optimizers.AdamW(1e-4)\n",
    "\n",
    "# Get data\n",
    "train_loader = dataloader(data_dir=\"./data/train\", batch_size=32)\n",
    "val_loader = dataloader(data_dir=\"./data/val\", batch_size=32)\n",
    "test_loader = dataloader(data_dir=\"./data/test\", batch_size=32)\n",
    "\n",
    "#B Input parameter\n",
    "b_field = pd.read_csv('b-field.csv', delimiter=',', index_col=0)\n",
    "b_field_values = b_field.values.flatten()  # Convert to a 1D Numpy array\n",
    "b_field = torch.tensor(b_field_values, dtype=torch.float32).to(DEVICE)\n",
    "x = torch.linspace(0, 500, steps=500, requires_grad=True).to(DEVICE)\n",
    "\n",
    "# Run training\n",
    "save_dir = \"./results/finitedifference\"\n",
    "run(train_loader, val_loader, forward_t, forward_tplus1, prior, posterior, decoder, opt, b_field, x, save_dir, 200, 10)\n",
    "\n",
    "# # Plot loss\n",
    "plot_loss(f\"{save_dir}/history.json\");"
   ]
  },
  {
   "cell_type": "markdown",
   "metadata": {},
   "source": [
    "# Evaluate"
   ]
  },
  {
   "cell_type": "code",
   "execution_count": null,
   "metadata": {},
   "outputs": [],
   "source": [
    "# Load trained models\n",
    "forward_t.load_weights(f\"{save_dir}/forward_t.weights.h5\")\n",
    "prior.load_weights(f\"{save_dir}/prior.weights.h5\")\n",
    "decoder.load_weights(f\"{save_dir}/decoder.weights.h5\")\n",
    "\n",
    "# Evaluate by calculating loss over test set\n",
    "test_loss = 0\n",
    "for i, (x_t, x_tplus1) in enumerate(test_loader):\n",
    "    test_loss += val_step(x_t, x_tplus1, forward_t, prior, decoder)\n",
    "test_loss /= i+1\n",
    "print(\"Test reconstruction loss:\", test_loss)"
   ]
  },
  {
   "cell_type": "markdown",
   "metadata": {},
   "source": [
    "# Generate\n",
    "Make sure the trained models have been loaded with the code cell above."
   ]
  },
  {
   "cell_type": "code",
   "execution_count": null,
   "metadata": {},
   "outputs": [],
   "source": [
    "# Do it for various starting points\n",
    "for j in range(4):\n",
    "    # Select one random ground truth starting point\n",
    "    trajectory = test_loader.dataset.get_trajectory(pushforward=False)\n",
    "    # Generate multiple trajectories from one starting point\n",
    "    trajectory_hats = []\n",
    "    for i in range(6):\n",
    "        # Generate trajectory\n",
    "        trajectory_hat = generate(trajectory, forward_t, prior, decoder)\n",
    "        trajectory_hats.append(keras.ops.concatenate(trajectory_hat))\n",
    "        # Save trajectories as figure\n",
    "        fig = plot_1d_statistic_over_time(trajectory_hats[i].detach().cpu(), 0, \"I don't know what this variable is\");\n",
    "        fig.savefig(f\"{save_dir}/gen_{j}-{i}\")\n",
    "    # Save trajectories as tensors\n",
    "    trajectory_hats = keras.ops.stack(trajectory_hats)\n",
    "    with open(f\"{save_dir}/generated_trajectories{j}.pkl\", \"wb\") as file:\n",
    "        pickle.dump(trajectory_hats, file)"
   ]
  }
 ],
 "metadata": {
  "kernelspec": {
   "display_name": "general",
   "language": "python",
   "name": "python3"
  },
  "language_info": {
   "codemirror_mode": {
    "name": "ipython",
    "version": 3
   },
   "file_extension": ".py",
   "mimetype": "text/x-python",
   "name": "python",
   "nbconvert_exporter": "python",
   "pygments_lexer": "ipython3",
   "version": "3.12.3"
  }
 },
 "nbformat": 4,
 "nbformat_minor": 2
}
