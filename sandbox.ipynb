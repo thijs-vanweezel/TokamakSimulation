{
 "cells": [
  {
   "cell_type": "markdown",
   "metadata": {},
   "source": [
    "TODO: Split data in train, validation, test "
   ]
  },
  {
   "cell_type": "code",
   "execution_count": null,
   "metadata": {},
   "outputs": [],
   "source": [
    "%load_ext autoreload\n",
    "%autoreload 2\n",
    "from utils import FusionDataset\n",
    "from models import Forward, Posterior, Prior, Decoder\n",
    "from torch.utils.data import DataLoader\n",
    "from train import run\n",
    "import os\n",
    "os.environ[\"KERAS_BACKEND\"] = \"torch\"\n",
    "import keras"
   ]
  },
  {
   "cell_type": "code",
   "execution_count": null,
   "metadata": {},
   "outputs": [],
   "source": [
    "# Instantiate models\n",
    "forward_t = Forward()\n",
    "forward_tplus1 = Forward()\n",
    "prior = Prior()\n",
    "posterior = Posterior()\n",
    "decoder = Decoder()\n",
    "\n",
    "# Instantiate optimizer\n",
    "opt = keras.optimizers.AdamW()\n",
    "\n",
    "# Get data\n",
    "fusion_dataset = DataLoader(FusionDataset(), batch_size=16)\n",
    "\n",
    "# Run training\n",
    "run(fusion_dataset, forward_t, forward_tplus1, prior, posterior, decoder, opt, 10)"
   ]
  }
 ],
 "metadata": {
  "kernelspec": {
   "display_name": "general",
   "language": "python",
   "name": "python3"
  },
  "language_info": {
   "codemirror_mode": {
    "name": "ipython",
    "version": 3
   },
   "file_extension": ".py",
   "mimetype": "text/x-python",
   "name": "python",
   "nbconvert_exporter": "python",
   "pygments_lexer": "ipython3",
   "version": "3.12.3"
  }
 },
 "nbformat": 4,
 "nbformat_minor": 2
}
