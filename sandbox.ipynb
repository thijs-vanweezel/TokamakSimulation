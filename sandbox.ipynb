{
 "cells": [
  {
   "cell_type": "markdown",
   "metadata": {},
   "source": [
    "TODO: Split data in train, validation, test "
   ]
  },
  {
   "cell_type": "code",
   "execution_count": 4,
   "metadata": {},
   "outputs": [],
   "source": [
    "%load_ext autoreload\n",
    "%autoreload 2\n",
    "from dataset import SimulationDataset\n",
    "from sampler import TimeAdjustedSampler\n",
    "import torch\n",
    "from torch.utils.data import DataLoader "
   ]
  },
  {
   "cell_type": "code",
   "execution_count": 5,
   "metadata": {},
   "outputs": [],
   "source": [
    "data_dir = \"./data/preprocessed/\"\n",
    "omega = 20\n",
    "batch_size = 16\n",
    "\n",
    "def custom_collate(batch):\n",
    "    X, Y = [], []\n",
    "    for x,f,y in batch:\n",
    "        X.append(torch.cat((x, f), dim=2))\n",
    "        Y.append(y)\n",
    "    X = torch.stack(X)\n",
    "    Y = torch.stack(Y)\n",
    "    return (X,Y)\n",
    "\n",
    "simulationdataset = SimulationDataset(data_dir, omega)\n",
    "sampler = TimeAdjustedSampler(simulationdataset, batch_size=batch_size)\n",
    "dataloader = DataLoader(simulationdataset, batch_sampler=sampler, collate_fn=custom_collate)"
   ]
  }
 ],
 "metadata": {
  "kernelspec": {
   "display_name": "general",
   "language": "python",
   "name": "python3"
  },
  "language_info": {
   "codemirror_mode": {
    "name": "ipython",
    "version": 3
   },
   "file_extension": ".py",
   "mimetype": "text/x-python",
   "name": "python",
   "nbconvert_exporter": "python",
   "pygments_lexer": "ipython3",
   "version": "3.12.3"
  }
 },
 "nbformat": 4,
 "nbformat_minor": 2
}
