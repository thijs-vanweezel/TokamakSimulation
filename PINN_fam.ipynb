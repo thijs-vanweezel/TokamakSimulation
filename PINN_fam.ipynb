{
 "cells": [
  {
   "cell_type": "code",
   "execution_count": 43,
   "metadata": {},
   "outputs": [
    {
     "name": "stderr",
     "output_type": "stream",
     "text": [
      "/opt/homebrew/Caskroom/miniforge/base/envs/NuclearFusion/lib/python3.11/site-packages/tqdm/auto.py:21: TqdmWarning: IProgress not found. Please update jupyter and ipywidgets. See https://ipywidgets.readthedocs.io/en/stable/user_install.html\n",
      "  from .autonotebook import tqdm as notebook_tqdm\n"
     ]
    }
   ],
   "source": [
    "import pandas as pd\n",
    "from utils import FusionDataset\n",
    "import torch \n",
    "from models import Posterior, Prior, Decoder, Forward\n",
    "from torch.utils.data import DataLoader, Subset\n",
    "from train import * \n"
   ]
  },
  {
   "cell_type": "code",
   "execution_count": 31,
   "metadata": {},
   "outputs": [],
   "source": [
    "b_field = pd.read_csv('b-field.csv', delimiter=',', index_col=0)\n"
   ]
  },
  {
   "cell_type": "code",
   "execution_count": 32,
   "metadata": {},
   "outputs": [],
   "source": [
    "import torch\n",
    "\n",
    "def custom_loss_fn(pred_n, pred_v_parallel, true_n, true_v_parallel, B, x, t):\n",
    "    \"\"\"\n",
    "    Custom loss function (f_n) that calculates a specific loss based on the model's predictions.\n",
    "\n",
    "    Args:\n",
    "        pred_n: Tensor, predicted plasma density (from model)\n",
    "        pred_v_parallel: Tensor, predicted parallel ion velocity (from model)\n",
    "        true_n: Tensor, true plasma density (target)\n",
    "        true_v_parallel: Tensor, true parallel ion velocity (target)\n",
    "        B: Tensor or scalar, magnetic field value\n",
    "        x: Tensor, spatial position variable\n",
    "        t: Tensor, temporal position variable\n",
    "    \n",
    "    Returns:\n",
    "        f_n: Tensor, computed custom loss term\n",
    "    \"\"\"\n",
    "    # Compute temporal derivatives\n",
    "    d_pred_n_dt = torch.autograd.grad(pred_n, t, grad_outputs=torch.ones_like(pred_n), create_graph=True)[0]\n",
    "    d_true_n_dt = torch.autograd.grad(true_n, t, grad_outputs=torch.ones_like(true_n), create_graph=True)[0]\n",
    "    \n",
    "    # Temporal loss component\n",
    "    temporal_loss = (d_pred_n_dt - d_true_n_dt) ** 2\n",
    "\n",
    "    # Compute spatial derivatives\n",
    "    pred_n_v_parallel = pred_n * pred_v_parallel / B\n",
    "    true_n_v_parallel = true_n * true_v_parallel / B\n",
    "\n",
    "    d_pred_nv_dx = torch.autograd.grad(pred_n_v_parallel, x, grad_outputs=torch.ones_like(pred_n_v_parallel), create_graph=True)[0]\n",
    "    d_true_nv_dx = torch.autograd.grad(true_n_v_parallel, x, grad_outputs=torch.ones_like(true_n_v_parallel), create_graph=True)[0]\n",
    "\n",
    "    # Spatial loss component\n",
    "    spatial_loss = B ** 2 * (d_pred_nv_dx - d_true_nv_dx) ** 2\n",
    "\n",
    "    # Total custom loss term\n",
    "    f_n = temporal_loss.mean() + spatial_loss.mean()\n",
    "    return f_n\n"
   ]
  },
  {
   "cell_type": "code",
   "execution_count": 35,
   "metadata": {},
   "outputs": [],
   "source": [
    "train_data = FusionDataset('.data/train')\n",
    "val_data = FusionDataset('.data/val')\n",
    "test_data = FusionDataset('.data/test')"
   ]
  },
  {
   "cell_type": "code",
   "execution_count": 44,
   "metadata": {},
   "outputs": [],
   "source": [
    "train_subset = Subset(train_data, list(range(100)))\n",
    "val_subset = Subset(val_data, list(range(100)))\n",
    "test_subset = Subset(test_data, list(range(100)))"
   ]
  },
  {
   "cell_type": "code",
   "execution_count": 45,
   "metadata": {},
   "outputs": [],
   "source": [
    "train_loader = DataLoader(train_subset, batch_size = 16)\n",
    "val_loader = DataLoader(val_subset, batch_size = 16)\n",
    "test_loader = DataLoader(test_subset, batch_size = 16)"
   ]
  },
  {
   "cell_type": "code",
   "execution_count": 46,
   "metadata": {},
   "outputs": [],
   "source": [
    "def train_step(x_t, x_t_plus1, forward_t, forward_tplus1, prior, posterior, decoder, opt):\n",
    "    # Move to GPU\n",
    "    x_t = x_t.to(\"cuda\")\n",
    "    x_t_plus1 = x_t_plus1.to(\"cuda\")\n",
    "    \n",
    "    # Forward pass\n",
    "    h_t = forward_t(x_t)\n",
    "    h_tplus1 = forward_tplus1(x_t_plus1)\n",
    "    z, mu, log_var = posterior(h_t, h_tplus1)\n",
    "    kl_nll = keras.ops.sum(posterior.log_prob(z, mu, log_var) - prior.log_prob(h_t, z), axis=(1,2,3))\n",
    "    rec_ll = decoder.log_prob(x_t_plus1, decoder(z, h_t))\n",
    "    loss = keras.ops.mean(-rec_ll + kl_nll)\n",
    "\n",
    "    # Prepare backward pass\n",
    "    opt.zero_grad()\n",
    "    loss.backward()\n",
    "    \n",
    "    # Apply gradients\n",
    "    trainable_weights = forward_t.trainable_weights + forward_tplus1.trainable_weights \\\n",
    "          + prior.trainable_weights + posterior.trainable_weights + decoder.trainable_weights\n",
    "    gradients = [t.value.grad for t in trainable_weights]\n",
    "    with torch.no_grad():\n",
    "        opt.apply_gradients(zip(gradients, trainable_weights))\n",
    "\n",
    "    return keras.ops.mean(kl_nll).item(), keras.ops.mean(-rec_ll).item()\n"
   ]
  },
  {
   "cell_type": "code",
   "execution_count": 47,
   "metadata": {},
   "outputs": [],
   "source": [
    "def evaluate(dataloader, forward_t, forward_tplus1, prior, posterior, decoder):\n",
    "    # Set models to evaluation mode\n",
    "    forward_t.eval()\n",
    "    forward_tplus1.eval()\n",
    "    prior.eval()\n",
    "    posterior.eval()\n",
    "    decoder.eval()\n",
    "\n",
    "    kl_loss_total, rec_loss_total = 0, 0\n",
    "    num_batches = len(dataloader)\n",
    "    \n",
    "    with torch.no_grad():\n",
    "        for x_t, x_tplus1 in dataloader:\n",
    "            x_t = x_t.to(\"cuda\")\n",
    "            x_t_plus1 = x_tplus1.to(\"cuda\")\n",
    "\n",
    "            h_t = forward_t(x_t)\n",
    "            h_tplus1 = forward_tplus1(x_tplus1)\n",
    "            z, mu, log_var = posterior(h_t, h_tplus1)\n",
    "            kl_nll = keras.ops.sum(posterior.log_prob(z, mu, log_var) - prior.log_prob(h_t, z), axis=(1,2,3))\n",
    "            rec_ll = decoder.log_prob(x_t_plus1, decoder(z, h_t))\n",
    "            \n",
    "            kl_loss_total += keras.ops.mean(kl_nll).item()\n",
    "            rec_loss_total += keras.ops.mean(-rec_ll).item()\n",
    "\n",
    "    # Calculate average losses over all batches\n",
    "    avg_kl_loss = kl_loss_total / num_batches\n",
    "    avg_rec_loss = rec_loss_total / num_batches\n",
    "\n",
    "    return avg_kl_loss, avg_rec_loss\n",
    "    "
   ]
  },
  {
   "cell_type": "code",
   "execution_count": 48,
   "metadata": {},
   "outputs": [],
   "source": [
    "def run(train_dataloader, val_dataloader, test_dataloader, forward_t, forward_tplus1, prior, posterior, decoder, optimizer, n_epochs=100):\n",
    "    train_loss_history = {\"kl_loss\": [], \"rec_loss\": []}\n",
    "    val_loss_history = {\"kl_loss\": [], \"rec_loss\": []}\n",
    "    \n",
    "    os.makedirs(\"./results/basic0\", exist_ok=True)\n",
    "    \n",
    "    for epoch in tqdm(range(n_epochs)):\n",
    "        # Training phase\n",
    "        forward_t.train()\n",
    "        forward_tplus1.train()\n",
    "        prior.train()\n",
    "        posterior.train()\n",
    "        decoder.train()\n",
    "\n",
    "        for batch_idx, (x_t, x_tplus1) in enumerate(train_dataloader):\n",
    "            # Initialize scaler on first batch of first epoch\n",
    "            if epoch == 0 and batch_idx == 0:\n",
    "                forward_t.layers[0].adapt(x_t)\n",
    "                forward_tplus1.layers[0].adapt(x_tplus1)\n",
    "            \n",
    "            # Training step\n",
    "            kl_loss, rec_loss = train_step(x_t, x_tplus1, forward_t, forward_tplus1, prior, posterior, decoder, optimizer)\n",
    "            \n",
    "            # Moving average for epoch loss\n",
    "            if batch_idx == 0:\n",
    "                train_loss_history[\"kl_loss\"].append(kl_loss)\n",
    "                train_loss_history[\"rec_loss\"].append(rec_loss)\n",
    "            else:\n",
    "                train_loss_history[\"kl_loss\"][-1] = train_loss_history[\"kl_loss\"][-1] * (1 - 1 / (batch_idx + 1)) + kl_loss / (batch_idx + 1)\n",
    "                train_loss_history[\"rec_loss\"][-1] = train_loss_history[\"rec_loss\"][-1] * (1 - 1 / (batch_idx + 1)) + rec_loss / (batch_idx + 1)\n",
    "        \n",
    "        # Validation phase\n",
    "        val_kl_loss, val_rec_loss = evaluate(val_dataloader, forward_t, forward_tplus1, prior, posterior, decoder)\n",
    "        val_loss_history[\"kl_loss\"].append(val_kl_loss)\n",
    "        val_loss_history[\"rec_loss\"].append(val_rec_loss)\n",
    "\n",
    "        # Save models and training history\n",
    "        forward_t.save(\"./results/basic0/forward_t.keras\")\n",
    "        forward_tplus1.save(\"./results/basic0/forward_tplus1.keras\")\n",
    "        prior.save(\"./results/basic0/prior.keras\")\n",
    "        posterior.save(\"./results/basic0/posterior.keras\")\n",
    "        decoder.save(\"./results/basic0/decoder.keras\")\n",
    "        \n",
    "        # Save training and validation history\n",
    "        history = {\n",
    "            \"train_loss\": train_loss_history,\n",
    "            \"val_loss\": val_loss_history,\n",
    "        }\n",
    "        with open(\"./results/basic0/history.json\", \"w\") as f:\n",
    "            json.dump(history, f)\n",
    "        \n",
    "            \n",
    "    # Test phase (after training completes)\n",
    "    test_kl_loss, test_rec_loss = evaluate(test_dataloader, forward_t, forward_tplus1, prior, posterior, decoder)\n",
    "    print(f\"Test KL Loss: {test_kl_loss:.4f}, Test Rec Loss: {test_rec_loss:.4f}\")\n"
   ]
  },
  {
   "cell_type": "code",
   "execution_count": 50,
   "metadata": {},
   "outputs": [
    {
     "name": "stderr",
     "output_type": "stream",
     "text": [
      "  0%|          | 0/100 [00:00<?, ?it/s]\n"
     ]
    },
    {
     "ename": "NotImplementedError",
     "evalue": "Subclasses of Dataset should implement __getitem__.",
     "output_type": "error",
     "traceback": [
      "\u001b[0;31m---------------------------------------------------------------------------\u001b[0m",
      "\u001b[0;31mNotImplementedError\u001b[0m                       Traceback (most recent call last)",
      "Cell \u001b[0;32mIn[50], line 6\u001b[0m\n\u001b[1;32m      1\u001b[0m optimizer \u001b[38;5;241m=\u001b[39m torch\u001b[38;5;241m.\u001b[39moptim\u001b[38;5;241m.\u001b[39mAdam(\n\u001b[1;32m      2\u001b[0m     \u001b[38;5;28mlist\u001b[39m(Forward()\u001b[38;5;241m.\u001b[39mparameters()) \u001b[38;5;241m+\u001b[39m \u001b[38;5;28mlist\u001b[39m(Forward()\u001b[38;5;241m.\u001b[39mparameters()) \u001b[38;5;241m+\u001b[39m\n\u001b[1;32m      3\u001b[0m     \u001b[38;5;28mlist\u001b[39m(Prior()\u001b[38;5;241m.\u001b[39mparameters()) \u001b[38;5;241m+\u001b[39m \u001b[38;5;28mlist\u001b[39m(Posterior()\u001b[38;5;241m.\u001b[39mparameters()) \u001b[38;5;241m+\u001b[39m \u001b[38;5;28mlist\u001b[39m(Decoder()\u001b[38;5;241m.\u001b[39mparameters()),\n\u001b[1;32m      4\u001b[0m     lr\u001b[38;5;241m=\u001b[39m\u001b[38;5;241m1e-4\u001b[39m  \u001b[38;5;66;03m# Set learning rate\u001b[39;00m\n\u001b[1;32m      5\u001b[0m )\n\u001b[0;32m----> 6\u001b[0m \u001b[43mrun\u001b[49m\u001b[43m(\u001b[49m\u001b[43mtrain_dataloader\u001b[49m\u001b[38;5;241;43m=\u001b[39;49m\u001b[43mtrain_loader\u001b[49m\u001b[43m,\u001b[49m\u001b[43m \u001b[49m\u001b[43mval_dataloader\u001b[49m\u001b[38;5;241;43m=\u001b[39;49m\u001b[43mval_loader\u001b[49m\u001b[43m,\u001b[49m\u001b[43m \u001b[49m\u001b[43mtest_dataloader\u001b[49m\u001b[38;5;241;43m=\u001b[39;49m\u001b[43mtest_loader\u001b[49m\u001b[43m,\u001b[49m\u001b[43m \u001b[49m\u001b[43mforward_t\u001b[49m\u001b[38;5;241;43m=\u001b[39;49m\u001b[43mForward\u001b[49m\u001b[43m(\u001b[49m\u001b[43m)\u001b[49m\u001b[43m,\u001b[49m\u001b[43m \u001b[49m\u001b[43mforward_tplus1\u001b[49m\u001b[38;5;241;43m=\u001b[39;49m\u001b[43mForward\u001b[49m\u001b[43m(\u001b[49m\u001b[43m)\u001b[49m\u001b[43m,\u001b[49m\u001b[43mprior\u001b[49m\u001b[38;5;241;43m=\u001b[39;49m\u001b[43mPrior\u001b[49m\u001b[43m(\u001b[49m\u001b[43m)\u001b[49m\u001b[43m,\u001b[49m\u001b[43mposterior\u001b[49m\u001b[38;5;241;43m=\u001b[39;49m\u001b[43mPosterior\u001b[49m\u001b[43m(\u001b[49m\u001b[43m)\u001b[49m\u001b[43m,\u001b[49m\u001b[43mdecoder\u001b[49m\u001b[38;5;241;43m=\u001b[39;49m\u001b[43mDecoder\u001b[49m\u001b[43m(\u001b[49m\u001b[43m)\u001b[49m\u001b[43m,\u001b[49m\u001b[43m \u001b[49m\u001b[43moptimizer\u001b[49m\u001b[38;5;241;43m=\u001b[39;49m\u001b[43moptimizer\u001b[49m\u001b[43m)\u001b[49m\n",
      "Cell \u001b[0;32mIn[48], line 15\u001b[0m, in \u001b[0;36mrun\u001b[0;34m(train_dataloader, val_dataloader, test_dataloader, forward_t, forward_tplus1, prior, posterior, decoder, optimizer, n_epochs)\u001b[0m\n\u001b[1;32m     12\u001b[0m posterior\u001b[38;5;241m.\u001b[39mtrain()\n\u001b[1;32m     13\u001b[0m decoder\u001b[38;5;241m.\u001b[39mtrain()\n\u001b[0;32m---> 15\u001b[0m \u001b[43m\u001b[49m\u001b[38;5;28;43;01mfor\u001b[39;49;00m\u001b[43m \u001b[49m\u001b[43mbatch_idx\u001b[49m\u001b[43m,\u001b[49m\u001b[43m \u001b[49m\u001b[43m(\u001b[49m\u001b[43mx_t\u001b[49m\u001b[43m,\u001b[49m\u001b[43m \u001b[49m\u001b[43mx_tplus1\u001b[49m\u001b[43m)\u001b[49m\u001b[43m \u001b[49m\u001b[38;5;129;43;01min\u001b[39;49;00m\u001b[43m \u001b[49m\u001b[38;5;28;43menumerate\u001b[39;49m\u001b[43m(\u001b[49m\u001b[43mtrain_dataloader\u001b[49m\u001b[43m)\u001b[49m\u001b[43m:\u001b[49m\n\u001b[1;32m     16\u001b[0m \u001b[43m    \u001b[49m\u001b[38;5;66;43;03m# Initialize scaler on first batch of first epoch\u001b[39;49;00m\n\u001b[1;32m     17\u001b[0m \u001b[43m    \u001b[49m\u001b[38;5;28;43;01mif\u001b[39;49;00m\u001b[43m \u001b[49m\u001b[43mepoch\u001b[49m\u001b[43m \u001b[49m\u001b[38;5;241;43m==\u001b[39;49m\u001b[43m \u001b[49m\u001b[38;5;241;43m0\u001b[39;49m\u001b[43m \u001b[49m\u001b[38;5;129;43;01mand\u001b[39;49;00m\u001b[43m \u001b[49m\u001b[43mbatch_idx\u001b[49m\u001b[43m \u001b[49m\u001b[38;5;241;43m==\u001b[39;49m\u001b[43m \u001b[49m\u001b[38;5;241;43m0\u001b[39;49m\u001b[43m:\u001b[49m\n\u001b[1;32m     18\u001b[0m \u001b[43m        \u001b[49m\u001b[43mforward_t\u001b[49m\u001b[38;5;241;43m.\u001b[39;49m\u001b[43mlayers\u001b[49m\u001b[43m[\u001b[49m\u001b[38;5;241;43m0\u001b[39;49m\u001b[43m]\u001b[49m\u001b[38;5;241;43m.\u001b[39;49m\u001b[43madapt\u001b[49m\u001b[43m(\u001b[49m\u001b[43mx_t\u001b[49m\u001b[43m)\u001b[49m\n",
      "File \u001b[0;32m/opt/homebrew/Caskroom/miniforge/base/envs/NuclearFusion/lib/python3.11/site-packages/torch/utils/data/dataloader.py:630\u001b[0m, in \u001b[0;36m_BaseDataLoaderIter.__next__\u001b[0;34m(self)\u001b[0m\n\u001b[1;32m    627\u001b[0m \u001b[38;5;28;01mif\u001b[39;00m \u001b[38;5;28mself\u001b[39m\u001b[38;5;241m.\u001b[39m_sampler_iter \u001b[38;5;129;01mis\u001b[39;00m \u001b[38;5;28;01mNone\u001b[39;00m:\n\u001b[1;32m    628\u001b[0m     \u001b[38;5;66;03m# TODO(https://github.com/pytorch/pytorch/issues/76750)\u001b[39;00m\n\u001b[1;32m    629\u001b[0m     \u001b[38;5;28mself\u001b[39m\u001b[38;5;241m.\u001b[39m_reset()  \u001b[38;5;66;03m# type: ignore[call-arg]\u001b[39;00m\n\u001b[0;32m--> 630\u001b[0m data \u001b[38;5;241m=\u001b[39m \u001b[38;5;28;43mself\u001b[39;49m\u001b[38;5;241;43m.\u001b[39;49m\u001b[43m_next_data\u001b[49m\u001b[43m(\u001b[49m\u001b[43m)\u001b[49m\n\u001b[1;32m    631\u001b[0m \u001b[38;5;28mself\u001b[39m\u001b[38;5;241m.\u001b[39m_num_yielded \u001b[38;5;241m+\u001b[39m\u001b[38;5;241m=\u001b[39m \u001b[38;5;241m1\u001b[39m\n\u001b[1;32m    632\u001b[0m \u001b[38;5;28;01mif\u001b[39;00m \u001b[38;5;28mself\u001b[39m\u001b[38;5;241m.\u001b[39m_dataset_kind \u001b[38;5;241m==\u001b[39m _DatasetKind\u001b[38;5;241m.\u001b[39mIterable \u001b[38;5;129;01mand\u001b[39;00m \\\n\u001b[1;32m    633\u001b[0m         \u001b[38;5;28mself\u001b[39m\u001b[38;5;241m.\u001b[39m_IterableDataset_len_called \u001b[38;5;129;01mis\u001b[39;00m \u001b[38;5;129;01mnot\u001b[39;00m \u001b[38;5;28;01mNone\u001b[39;00m \u001b[38;5;129;01mand\u001b[39;00m \\\n\u001b[1;32m    634\u001b[0m         \u001b[38;5;28mself\u001b[39m\u001b[38;5;241m.\u001b[39m_num_yielded \u001b[38;5;241m>\u001b[39m \u001b[38;5;28mself\u001b[39m\u001b[38;5;241m.\u001b[39m_IterableDataset_len_called:\n",
      "File \u001b[0;32m/opt/homebrew/Caskroom/miniforge/base/envs/NuclearFusion/lib/python3.11/site-packages/torch/utils/data/dataloader.py:673\u001b[0m, in \u001b[0;36m_SingleProcessDataLoaderIter._next_data\u001b[0;34m(self)\u001b[0m\n\u001b[1;32m    671\u001b[0m \u001b[38;5;28;01mdef\u001b[39;00m \u001b[38;5;21m_next_data\u001b[39m(\u001b[38;5;28mself\u001b[39m):\n\u001b[1;32m    672\u001b[0m     index \u001b[38;5;241m=\u001b[39m \u001b[38;5;28mself\u001b[39m\u001b[38;5;241m.\u001b[39m_next_index()  \u001b[38;5;66;03m# may raise StopIteration\u001b[39;00m\n\u001b[0;32m--> 673\u001b[0m     data \u001b[38;5;241m=\u001b[39m \u001b[38;5;28;43mself\u001b[39;49m\u001b[38;5;241;43m.\u001b[39;49m\u001b[43m_dataset_fetcher\u001b[49m\u001b[38;5;241;43m.\u001b[39;49m\u001b[43mfetch\u001b[49m\u001b[43m(\u001b[49m\u001b[43mindex\u001b[49m\u001b[43m)\u001b[49m  \u001b[38;5;66;03m# may raise StopIteration\u001b[39;00m\n\u001b[1;32m    674\u001b[0m     \u001b[38;5;28;01mif\u001b[39;00m \u001b[38;5;28mself\u001b[39m\u001b[38;5;241m.\u001b[39m_pin_memory:\n\u001b[1;32m    675\u001b[0m         data \u001b[38;5;241m=\u001b[39m _utils\u001b[38;5;241m.\u001b[39mpin_memory\u001b[38;5;241m.\u001b[39mpin_memory(data, \u001b[38;5;28mself\u001b[39m\u001b[38;5;241m.\u001b[39m_pin_memory_device)\n",
      "File \u001b[0;32m/opt/homebrew/Caskroom/miniforge/base/envs/NuclearFusion/lib/python3.11/site-packages/torch/utils/data/_utils/fetch.py:50\u001b[0m, in \u001b[0;36m_MapDatasetFetcher.fetch\u001b[0;34m(self, possibly_batched_index)\u001b[0m\n\u001b[1;32m     48\u001b[0m \u001b[38;5;28;01mif\u001b[39;00m \u001b[38;5;28mself\u001b[39m\u001b[38;5;241m.\u001b[39mauto_collation:\n\u001b[1;32m     49\u001b[0m     \u001b[38;5;28;01mif\u001b[39;00m \u001b[38;5;28mhasattr\u001b[39m(\u001b[38;5;28mself\u001b[39m\u001b[38;5;241m.\u001b[39mdataset, \u001b[38;5;124m\"\u001b[39m\u001b[38;5;124m__getitems__\u001b[39m\u001b[38;5;124m\"\u001b[39m) \u001b[38;5;129;01mand\u001b[39;00m \u001b[38;5;28mself\u001b[39m\u001b[38;5;241m.\u001b[39mdataset\u001b[38;5;241m.\u001b[39m__getitems__:\n\u001b[0;32m---> 50\u001b[0m         data \u001b[38;5;241m=\u001b[39m \u001b[38;5;28;43mself\u001b[39;49m\u001b[38;5;241;43m.\u001b[39;49m\u001b[43mdataset\u001b[49m\u001b[38;5;241;43m.\u001b[39;49m\u001b[43m__getitems__\u001b[49m\u001b[43m(\u001b[49m\u001b[43mpossibly_batched_index\u001b[49m\u001b[43m)\u001b[49m\n\u001b[1;32m     51\u001b[0m     \u001b[38;5;28;01melse\u001b[39;00m:\n\u001b[1;32m     52\u001b[0m         data \u001b[38;5;241m=\u001b[39m [\u001b[38;5;28mself\u001b[39m\u001b[38;5;241m.\u001b[39mdataset[idx] \u001b[38;5;28;01mfor\u001b[39;00m idx \u001b[38;5;129;01min\u001b[39;00m possibly_batched_index]\n",
      "File \u001b[0;32m/opt/homebrew/Caskroom/miniforge/base/envs/NuclearFusion/lib/python3.11/site-packages/torch/utils/data/dataset.py:420\u001b[0m, in \u001b[0;36mSubset.__getitems__\u001b[0;34m(self, indices)\u001b[0m\n\u001b[1;32m    418\u001b[0m     \u001b[38;5;28;01mreturn\u001b[39;00m \u001b[38;5;28mself\u001b[39m\u001b[38;5;241m.\u001b[39mdataset\u001b[38;5;241m.\u001b[39m__getitems__([\u001b[38;5;28mself\u001b[39m\u001b[38;5;241m.\u001b[39mindices[idx] \u001b[38;5;28;01mfor\u001b[39;00m idx \u001b[38;5;129;01min\u001b[39;00m indices])  \u001b[38;5;66;03m# type: ignore[attr-defined]\u001b[39;00m\n\u001b[1;32m    419\u001b[0m \u001b[38;5;28;01melse\u001b[39;00m:\n\u001b[0;32m--> 420\u001b[0m     \u001b[38;5;28;01mreturn\u001b[39;00m \u001b[43m[\u001b[49m\u001b[38;5;28;43mself\u001b[39;49m\u001b[38;5;241;43m.\u001b[39;49m\u001b[43mdataset\u001b[49m\u001b[43m[\u001b[49m\u001b[38;5;28;43mself\u001b[39;49m\u001b[38;5;241;43m.\u001b[39;49m\u001b[43mindices\u001b[49m\u001b[43m[\u001b[49m\u001b[43midx\u001b[49m\u001b[43m]\u001b[49m\u001b[43m]\u001b[49m\u001b[43m \u001b[49m\u001b[38;5;28;43;01mfor\u001b[39;49;00m\u001b[43m \u001b[49m\u001b[43midx\u001b[49m\u001b[43m \u001b[49m\u001b[38;5;129;43;01min\u001b[39;49;00m\u001b[43m \u001b[49m\u001b[43mindices\u001b[49m\u001b[43m]\u001b[49m\n",
      "File \u001b[0;32m/opt/homebrew/Caskroom/miniforge/base/envs/NuclearFusion/lib/python3.11/site-packages/torch/utils/data/dataset.py:420\u001b[0m, in \u001b[0;36m<listcomp>\u001b[0;34m(.0)\u001b[0m\n\u001b[1;32m    418\u001b[0m     \u001b[38;5;28;01mreturn\u001b[39;00m \u001b[38;5;28mself\u001b[39m\u001b[38;5;241m.\u001b[39mdataset\u001b[38;5;241m.\u001b[39m__getitems__([\u001b[38;5;28mself\u001b[39m\u001b[38;5;241m.\u001b[39mindices[idx] \u001b[38;5;28;01mfor\u001b[39;00m idx \u001b[38;5;129;01min\u001b[39;00m indices])  \u001b[38;5;66;03m# type: ignore[attr-defined]\u001b[39;00m\n\u001b[1;32m    419\u001b[0m \u001b[38;5;28;01melse\u001b[39;00m:\n\u001b[0;32m--> 420\u001b[0m     \u001b[38;5;28;01mreturn\u001b[39;00m [\u001b[38;5;28;43mself\u001b[39;49m\u001b[38;5;241;43m.\u001b[39;49m\u001b[43mdataset\u001b[49m\u001b[43m[\u001b[49m\u001b[38;5;28;43mself\u001b[39;49m\u001b[38;5;241;43m.\u001b[39;49m\u001b[43mindices\u001b[49m\u001b[43m[\u001b[49m\u001b[43midx\u001b[49m\u001b[43m]\u001b[49m\u001b[43m]\u001b[49m \u001b[38;5;28;01mfor\u001b[39;00m idx \u001b[38;5;129;01min\u001b[39;00m indices]\n",
      "File \u001b[0;32m/opt/homebrew/Caskroom/miniforge/base/envs/NuclearFusion/lib/python3.11/site-packages/torch/utils/data/dataset.py:63\u001b[0m, in \u001b[0;36mDataset.__getitem__\u001b[0;34m(self, index)\u001b[0m\n\u001b[1;32m     62\u001b[0m \u001b[38;5;28;01mdef\u001b[39;00m \u001b[38;5;21m__getitem__\u001b[39m(\u001b[38;5;28mself\u001b[39m, index) \u001b[38;5;241m-\u001b[39m\u001b[38;5;241m>\u001b[39m T_co:\n\u001b[0;32m---> 63\u001b[0m     \u001b[38;5;28;01mraise\u001b[39;00m \u001b[38;5;167;01mNotImplementedError\u001b[39;00m(\u001b[38;5;124m\"\u001b[39m\u001b[38;5;124mSubclasses of Dataset should implement __getitem__.\u001b[39m\u001b[38;5;124m\"\u001b[39m)\n",
      "\u001b[0;31mNotImplementedError\u001b[0m: Subclasses of Dataset should implement __getitem__."
     ]
    }
   ],
   "source": [
    "optimizer = torch.optim.Adam(\n",
    "    list(Forward().parameters()) + list(Forward().parameters()) +\n",
    "    list(Prior().parameters()) + list(Posterior().parameters()) + list(Decoder().parameters()),\n",
    "    lr=1e-4  # Set learning rate\n",
    ")\n",
    "run(train_dataloader=train_loader, val_dataloader=val_loader, test_dataloader=test_loader, forward_t=Forward(), forward_tplus1=Forward(),prior=Prior(),posterior=Posterior(),decoder=Decoder(), optimizer=optimizer)"
   ]
  }
 ],
 "metadata": {
  "kernelspec": {
   "display_name": "NuclearFusion",
   "language": "python",
   "name": "python3"
  },
  "language_info": {
   "codemirror_mode": {
    "name": "ipython",
    "version": 3
   },
   "file_extension": ".py",
   "mimetype": "text/x-python",
   "name": "python",
   "nbconvert_exporter": "python",
   "pygments_lexer": "ipython3",
   "version": "3.11.10"
  }
 },
 "nbformat": 4,
 "nbformat_minor": 2
}
